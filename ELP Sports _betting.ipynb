{
 "cells": [
  {
   "cell_type": "markdown",
   "metadata": {},
   "source": [
    "# English Premier League Sports Betting"
   ]
  },
  {
   "cell_type": "code",
   "execution_count": 114,
   "metadata": {},
   "outputs": [],
   "source": [
    "# Import Required Packages \n",
    "import numpy as np\n",
    "import pandas as pd\n",
    "from xgboost import XGBClassifier\n",
    "\n",
    "import matplotlib.pyplot as plt\n",
    "from sklearn.linear_model import LogisticRegression\n",
    "from sklearn.svm import SVC\n",
    "import seaborn as sns\n",
    "\n",
    "from datetime import datetime as dt\n",
    "\n",
    "import itertools\n",
    "\n",
    "%matplotlib inline"
   ]
  },
  {
   "cell_type": "markdown",
   "metadata": {},
   "source": [
    "## Steps\n",
    "\n",
    "1. Import and Clean a dataset \n",
    "2. Perform EDA on features\n",
    "3. Split data to train and test data\n",
    "4. Train 3 different classifiers on the data \n",
    "5. Use the best classifier to predict the winner given an Away and Home team."
   ]
  },
  {
   "cell_type": "code",
   "execution_count": 153,
   "metadata": {},
   "outputs": [],
   "source": [
    "# Import Data from folder for all 21 years of the Premier League \n",
    "# https://www.football-data.co.uk/englandm.php\n",
    "\n",
    "raw_data_1 = pd.read_csv('2000-01.csv')\n",
    "raw_data_2 = pd.read_csv('2001-02.csv')\n",
    "raw_data_3 = pd.read_csv('2002-03.csv')\n",
    "raw_data_4 = pd.read_csv('2003-04.csv')\n",
    "raw_data_5 = pd.read_csv('2004-05.csv')\n",
    "raw_data_6 = pd.read_csv('2005-06.csv')\n",
    "raw_data_7 = pd.read_csv('2006-07.csv')\n",
    "raw_data_8 = pd.read_csv('2007-08.csv')\n",
    "raw_data_9 = pd.read_csv('2008-09.csv')\n",
    "raw_data_10 = pd.read_csv('2009-10.csv')\n",
    "raw_data_11 = pd.read_csv('2010-11.csv')\n",
    "raw_data_12 = pd.read_csv('2011-12.csv')\n",
    "raw_data_13 = pd.read_csv('2012-13.csv')\n",
    "raw_data_14 = pd.read_csv('2013-14.csv')\n",
    "raw_data_15 = pd.read_csv('2014-15.csv')\n",
    "raw_data_16 = pd.read_csv('2015-16.csv')\n",
    "raw_data_17 = pd.read_csv('2016-17.csv')\n",
    "raw_data_18 = pd.read_csv('2017-18.csv')\n",
    "raw_data_19 = pd.read_csv('2018-19.csv')"
   ]
  },
  {
   "cell_type": "code",
   "execution_count": 154,
   "metadata": {},
   "outputs": [],
   "source": [
    "raw_data_6 = pd.read_csv('2005-06.csv')\n",
    "raw_data_7 = pd.read_csv('2006-07.csv')\n",
    "raw_data_8 = pd.read_csv('2007-08.csv')\n",
    "raw_data_9 = pd.read_csv('2008-09.csv')\n",
    "raw_data_10 = pd.read_csv('2009-10.csv')\n",
    "raw_data_11 = pd.read_csv('2010-11.csv')\n",
    "raw_data_12 = pd.read_csv('2011-12.csv')\n",
    "raw_data_13 = pd.read_csv('2012-13.csv')\n",
    "raw_data_14 = pd.read_csv('2013-14.csv')\n",
    "raw_data_15 = pd.read_csv('2014-15.csv')\n",
    "raw_data_16 = pd.read_csv('2015-16.csv')\n",
    "raw_data_17 = pd.read_csv('2016-17.csv')\n",
    "raw_data_18 = pd.read_csv('2017-18.csv')\n",
    "raw_data_19 = pd.read_csv('2018-19.csv')"
   ]
  },
  {
   "cell_type": "code",
   "execution_count": 155,
   "metadata": {},
   "outputs": [],
   "source": [
    "raw_data_20 = pd.read_csv('2019-20.csv')\n",
    "raw_data_21 = pd.read_csv('2020-21.csv')"
   ]
  },
  {
   "cell_type": "code",
   "execution_count": 173,
   "metadata": {},
   "outputs": [],
   "source": [
    "columns_req = ['Date','HomeTeam','AwayTeam','FTHG','FTAG','FTR']\n",
    "\n",
    "playing_statistics_1 = raw_data_1[columns_req]                      \n",
    "playing_statistics_2 = raw_data_2[columns_req]\n",
    "playing_statistics_3 = raw_data_3[columns_req]\n",
    "playing_statistics_4 = raw_data_4[columns_req]\n",
    "playing_statistics_5 = raw_data_5[columns_req]\n",
    "playing_statistics_6 = raw_data_6[columns_req]\n",
    "playing_statistics_7 = raw_data_7[columns_req]\n",
    "playing_statistics_8 = raw_data_8[columns_req]\n",
    "playing_statistics_9 = raw_data_9[columns_req]\n",
    "playing_statistics_10 = raw_data_10[columns_req]\n",
    "playing_statistics_11 = raw_data_11[columns_req]   \n",
    "playing_statistics_12 = raw_data_12[columns_req]\n",
    "playing_statistics_13 = raw_data_13[columns_req]\n",
    "playing_statistics_14 = raw_data_14[columns_req]\n",
    "playing_statistics_15 = raw_data_15[columns_req]\n",
    "playing_statistics_16 = raw_data_16[columns_req]\n",
    "playing_statistics_17 = raw_data_17[columns_req]\n",
    "playing_statistics_18 = raw_data_18[columns_req]\n",
    "playing_statistics_19 = raw_data_19[columns_req]\n",
    "playing_statistics_20 = raw_data_20[columns_req]\n",
    "playing_statistics_21 = raw_data_21[columns_req]"
   ]
  },
  {
   "cell_type": "code",
   "execution_count": 157,
   "metadata": {},
   "outputs": [],
   "source": []
  },
  {
   "cell_type": "code",
   "execution_count": 158,
   "metadata": {},
   "outputs": [],
   "source": []
  },
  {
   "cell_type": "code",
   "execution_count": null,
   "metadata": {},
   "outputs": [],
   "source": []
  }
 ],
 "metadata": {
  "kernelspec": {
   "display_name": "Python 3",
   "language": "python",
   "name": "python3"
  },
  "language_info": {
   "codemirror_mode": {
    "name": "ipython",
    "version": 3
   },
   "file_extension": ".py",
   "mimetype": "text/x-python",
   "name": "python",
   "nbconvert_exporter": "python",
   "pygments_lexer": "ipython3",
   "version": "3.8.5"
  },
  "toc": {
   "base_numbering": 1,
   "nav_menu": {},
   "number_sections": true,
   "sideBar": true,
   "skip_h1_title": false,
   "title_cell": "Table of Contents",
   "title_sidebar": "Contents",
   "toc_cell": false,
   "toc_position": {},
   "toc_section_display": true,
   "toc_window_display": false
  }
 },
 "nbformat": 4,
 "nbformat_minor": 4
}
